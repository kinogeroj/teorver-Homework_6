{
 "cells": [
  {
   "cell_type": "code",
   "execution_count": 7,
   "id": "9c579b65",
   "metadata": {},
   "outputs": [
    {
     "name": "stdout",
     "output_type": "stream",
     "text": [
      "Доверительный интервал будет такой: 78.04 - 81.96.\n"
     ]
    }
   ],
   "source": [
    "# 1. Известно, что генеральная совокупность распределена нормально со средним \n",
    "# квадратическим отклонением, равным 16.\n",
    "# Найти доверительный интервал для оценки математического ожидания a с надежностью 0.95, \n",
    "# если выборочная средняя M = 80, а объем выборки n = 256.\n",
    "\n",
    "import numpy as np\n",
    "import pandas as pd\n",
    "from scipy import stats\n",
    "\n",
    "M = 80\n",
    "n = 256\n",
    "sigma = 16\n",
    "alpha = 1.96\n",
    "\n",
    "stats.norm.ppf(0.975)\n",
    "\n",
    "# Используем формулу для Z-критерия\n",
    "\n",
    "high_value = M + alpha * sigma / np.sqrt(n) # Верхняя граница интервала\n",
    "\n",
    "low_value = M - alpha * sigma / np.sqrt(n) # Нижняя граница интервала\n",
    "\n",
    "print(f'Доверительный интервал будет такой: {low_value} - {high_value}.')\n"
   ]
  },
  {
   "cell_type": "code",
   "execution_count": 8,
   "id": "61d158b8",
   "metadata": {},
   "outputs": [
    {
     "name": "stdout",
     "output_type": "stream",
     "text": [
      "Истинное значение найденное по доверительному интервалу равно 6.590000000000001.\n"
     ]
    }
   ],
   "source": [
    "# 2. В результате 10 независимых измерений некоторой величины X, \n",
    "# выполненных с одинаковой точностью, получены опытные данные:\n",
    "# 6.9, 6.1, 6.2, 6.8, 7.5, 6.3, 6.4, 6.9, 6.7, 6.1\n",
    "# Предполагая, что результаты измерений подчинены нормальному закону \n",
    "# распределения вероятностей, оценить истинное значение величины X при \n",
    "# помощи доверительного интервала, покрывающего это значение с \n",
    "# доверительной вероятностью 0,95.\n",
    "\n",
    "data = np.array([6.9, 6.1, 6.2, 6.8, 7.5, 6.3, 6.4, 6.9, 6.7, 6.1])\n",
    "\n",
    "M_data = np.mean(data) # Среднее значение по измерениям\n",
    "\n",
    "disp = np.var(data, ddof=1) # Дисперсия\n",
    "\n",
    "# Используем формулу для критерия Стьюдента\n",
    "\n",
    "t = stats.t.ppf(0.975, 9) # 9 степеней свободы (10 - 1)\n",
    "\n",
    "high_value = M_data + t * np.sqrt(disp / 10) # Верхняя граница интервала\n",
    "\n",
    "low_value = M_data - t * np.sqrt(disp / 10) # Нижняя граница интервала\n",
    "\n",
    "print(f'Истинное значение найденное по доверительному интервалу равно {(high_value + low_value) / 2}.')"
   ]
  },
  {
   "cell_type": "code",
   "execution_count": 12,
   "id": "a6535869",
   "metadata": {},
   "outputs": [
    {
     "name": "stdout",
     "output_type": "stream",
     "text": [
      "Доверительный интервал будет такой: -6.268418034506846 - 10.068418034506857.\n"
     ]
    }
   ],
   "source": [
    "# Рост дочерей 175, 167, 154, 174, 178, 148, 160, 167, 169, 170\n",
    "# Рост матерей  178, 165, 165, 173, 168, 155, 160, 164, 178, 175\n",
    "# Используя эти данные построить 95% доверительный интервал для \n",
    "# разности среднего роста родителей и детей.\n",
    "\n",
    "n1 = 10\n",
    "n2 = 10\n",
    "data_1 = np.array([175, 167, 154, 174, 178, 148, 160, 167, 169, 170]) # Рост дочерей\n",
    "data_2 = np.array([178, 165, 165, 173, 168, 155, 160, 164, 178, 175]) # Рост матерей\n",
    "\n",
    "M_data_1 = np.mean(data_1)\n",
    "M_data_2 = np.mean(data_2)\n",
    "\n",
    "delta = M_data_2 - M_data_1\n",
    "\n",
    "t = stats.t.ppf(0.975, 18) # 18 степеней свободы (20 - 2)\n",
    "\n",
    "disp_data_1 = np.var(data_1, ddof=1) # Дисперсия для роста дочерей\n",
    "disp_data_2 = np.var(data_2, ddof=1) # Дисперсия для роста матерей\n",
    "\n",
    "disp = (disp_data_1 + disp_data_2) / 2 # Дисперсия по выборке разности среднего роста\n",
    "\n",
    "SE = np.sqrt(disp/n1 + disp/n2)\n",
    "\n",
    "high_value = delta + t * SE # Верхняя граница интервала\n",
    "\n",
    "low_value = delta - t * SE # Нижняя граница интервала\n",
    "\n",
    "print(f'Доверительный интервал будет такой: {low_value} - {high_value}.')"
   ]
  },
  {
   "cell_type": "code",
   "execution_count": null,
   "id": "e4ec680a",
   "metadata": {},
   "outputs": [],
   "source": []
  }
 ],
 "metadata": {
  "kernelspec": {
   "display_name": "Python 3 (ipykernel)",
   "language": "python",
   "name": "python3"
  },
  "language_info": {
   "codemirror_mode": {
    "name": "ipython",
    "version": 3
   },
   "file_extension": ".py",
   "mimetype": "text/x-python",
   "name": "python",
   "nbconvert_exporter": "python",
   "pygments_lexer": "ipython3",
   "version": "3.9.13"
  }
 },
 "nbformat": 4,
 "nbformat_minor": 5
}
